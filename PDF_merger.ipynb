{
  "nbformat": 4,
  "nbformat_minor": 0,
  "metadata": {
    "colab": {
      "provenance": [],
      "authorship_tag": "ABX9TyPlrEIg85x7NITZTVK1CEGK",
      "include_colab_link": true
    },
    "kernelspec": {
      "name": "python3",
      "display_name": "Python 3"
    },
    "language_info": {
      "name": "python"
    }
  },
  "cells": [
    {
      "cell_type": "markdown",
      "metadata": {
        "id": "view-in-github",
        "colab_type": "text"
      },
      "source": [
        "<a href=\"https://colab.research.google.com/github/singlaG554/Mini-projects/blob/main/PDF_merger.ipynb\" target=\"_parent\"><img src=\"https://colab.research.google.com/assets/colab-badge.svg\" alt=\"Open In Colab\"/></a>"
      ]
    },
    {
      "cell_type": "code",
      "execution_count": 1,
      "metadata": {
        "colab": {
          "base_uri": "https://localhost:8080/"
        },
        "id": "fVokxJYLBdP8",
        "outputId": "8fd833d7-8f9e-4f29-89a0-e0b9c1ba13a4"
      },
      "outputs": [
        {
          "output_type": "stream",
          "name": "stdout",
          "text": [
            "Collecting pyPDF2\n",
            "  Downloading pypdf2-3.0.1-py3-none-any.whl.metadata (6.8 kB)\n",
            "Downloading pypdf2-3.0.1-py3-none-any.whl (232 kB)\n",
            "\u001b[2K   \u001b[90m━━━━━━━━━━━━━━━━━━━━━━━━━━━━━━━━━━━━━━━━\u001b[0m \u001b[32m232.6/232.6 kB\u001b[0m \u001b[31m3.8 MB/s\u001b[0m eta \u001b[36m0:00:00\u001b[0m\n",
            "\u001b[?25hInstalling collected packages: pyPDF2\n",
            "Successfully installed pyPDF2-3.0.1\n"
          ]
        }
      ],
      "source": [
        "!pip install pyPDF2"
      ]
    },
    {
      "cell_type": "code",
      "source": [
        "import os\n",
        "from PyPDF2 import PdfMerger\n",
        "\n",
        "def merge_pdfs(pdf_list, output_path):\n",
        "    merger = PdfMerger()\n",
        "\n",
        "    for pdf in pdf_list:\n",
        "        if not os.path.exists(pdf):\n",
        "            print(f\"File not found: {pdf}\")\n",
        "            continue\n",
        "        merger.append(pdf)\n",
        "\n",
        "    merger.write(output_path)\n",
        "    merger.close()\n",
        "    print(f\"Merged PDF saved to: {output_path}\")\n",
        "\n",
        "if __name__ == \"__main__\":\n",
        "    # Example usage\n",
        "    pdf_files = [\n",
        "        \"/content/part1.pdf\",\n",
        "        \"/content/part2.pdf\"\n",
        "        # Add more PDF paths as needed\n",
        "    ]\n",
        "    output_file = \"/content/merged_output.pdf\"\n",
        "\n",
        "    merge_pdfs(pdf_files, output_file)\n"
      ],
      "metadata": {
        "colab": {
          "base_uri": "https://localhost:8080/"
        },
        "id": "PWSyuwZ9BpDS",
        "outputId": "e608eae6-d707-4125-9751-ba412b58eb20"
      },
      "execution_count": 2,
      "outputs": [
        {
          "output_type": "stream",
          "name": "stdout",
          "text": [
            "File not found: /content/part1.pdf\n",
            "File not found: /content/part2.pdf\n",
            "Merged PDF saved to: /content/merged_output.pdf\n"
          ]
        }
      ]
    }
  ]
}