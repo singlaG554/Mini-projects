{
  "nbformat": 4,
  "nbformat_minor": 0,
  "metadata": {
    "colab": {
      "provenance": [],
      "authorship_tag": "ABX9TyOENhm3fdgg7E21UwIwoaCd",
      "include_colab_link": true
    },
    "kernelspec": {
      "name": "python3",
      "display_name": "Python 3"
    },
    "language_info": {
      "name": "python"
    }
  },
  "cells": [
    {
      "cell_type": "markdown",
      "metadata": {
        "id": "view-in-github",
        "colab_type": "text"
      },
      "source": [
        "<a href=\"https://colab.research.google.com/github/singlaG554/Mini-projects/blob/main/Cosine_similarity.ipynb\" target=\"_parent\"><img src=\"https://colab.research.google.com/assets/colab-badge.svg\" alt=\"Open In Colab\"/></a>"
      ]
    },
    {
      "cell_type": "code",
      "execution_count": null,
      "metadata": {
        "id": "iWX0Xbbr31oh"
      },
      "outputs": [],
      "source": [
        "# Imagine turning each document, sentence, or item into a list of numbers (a vector). Cosine similarity checks how close in angle those two vectors are.\n",
        "# If two items are very similar, their vectors point in almost the same direction, so cosine similarity is close to 1.\n",
        "# If they are very different, their vectors are far apart, and cosine similarity is closer to 0.\n",
        "# In search engines: It tells which document best matches your query.\n",
        "# In recommendation engines: It helps recommend items similar to what you like.\n",
        "# In text classification: It groups similar texts together.\n",
        "\n",
        "from sklearn.feature_extraction.text import TfidfVectorizer\n",
        "from sklearn.metrics.pairwise import cosine_similarity\n",
        "import os\n",
        "\n",
        "def read_file(filepath):\n",
        "    with open(filepath, 'r', encoding='utf-8') as f:\n",
        "        return f.read()\n",
        "\n",
        "def compute_cosine_similarity(file_paths):\n",
        "    # Read all file contents\n",
        "    documents = [read_file(path) for path in file_paths]\n",
        "\n",
        "    # Convert texts to TF-IDF vectors\n",
        "    vectorizer = TfidfVectorizer()\n",
        "    tfidf_matrix = vectorizer.fit_transform(documents)\n",
        "\n",
        "    # Compute cosine similarity matrix\n",
        "    similarity_matrix = cosine_similarity(tfidf_matrix)\n",
        "\n",
        "    return similarity_matrix\n",
        "\n",
        "if __name__ == \"__main__\":\n",
        "    # Example file paths (you can change these to your actual file paths)\n",
        "    file_paths = [\n",
        "        \"/content/Arthur (1).txt\",\n",
        "        \"/content/Ben (1).txt\"\n",
        "    ]\n",
        "\n",
        "    if not all(os.path.exists(fp) for fp in file_paths):\n",
        "        print(\"❌ One or more files do not exist. Please check the paths.\")\n",
        "    else:\n",
        "        similarity_matrix = compute_cosine_similarity(file_paths)\n",
        "\n",
        "        print(\"✅ Cosine Similarity Matrix:\")\n",
        "        for i in range(len(file_paths)):\n",
        "            for j in range(len(file_paths)):\n",
        "                print(f\"Similarity between {os.path.basename(file_paths[i])} and {os.path.basename(file_paths[j])}: {similarity_matrix[i][j]:.4f}\")\n"
      ]
    }
  ]
}